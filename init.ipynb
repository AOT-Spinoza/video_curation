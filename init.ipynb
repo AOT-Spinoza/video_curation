{
 "cells": [
  {
   "cell_type": "code",
   "execution_count": 17,
   "metadata": {},
   "outputs": [],
   "source": [
    "from pathlib import Path\n",
    "import ffmpeg\n",
    "import yaml\n",
    "import hashlib\n",
    "import tqdm\n",
    "\n",
    "import pandas as pd\n",
    "import numpy as np\n",
    "\n",
    "from simple_file_checksum import get_checksum\n",
    "from joblib import Parallel, delayed"
   ]
  },
  {
   "cell_type": "code",
   "execution_count": 22,
   "metadata": {},
   "outputs": [],
   "source": [
    "def video_info_from_filename(f):\n",
    "    if f[:6] == 'pexels':\n",
    "        cr_str = f[7:].split(' ')[0].split('.')[0]\n",
    "        cr_str = cr_str.replace('_', '-')\n",
    "        return ' '.join(cr_str.split('-')[:-1]), cr_str.split('-')[-1]\n",
    "    elif f[:10] == 'production':\n",
    "        cr_str = f[14:].split(' ')[0].split('.')[0]\n",
    "        return 'pexels_unknown', cr_str\n",
    "    else:\n",
    "        return 'unknown', 'unknown'"
   ]
  },
  {
   "cell_type": "code",
   "execution_count": 19,
   "metadata": {},
   "outputs": [
    {
     "name": "stderr",
     "output_type": "stream",
     "text": [
      "  0%|          | 0/2090 [00:00<?, ?it/s]"
     ]
    },
    {
     "name": "stderr",
     "output_type": "stream",
     "text": [
      "100%|██████████| 2090/2090 [00:22<00:00, 94.62it/s] \n"
     ]
    }
   ],
   "source": [
    "settings = yaml.load(open('settings.yaml'), Loader=yaml.FullLoader)\n",
    "fp_f_names = list(Path(settings['raw_video_directory']).glob('*.mp4'))\n",
    "f_names = [p.name for p in fp_f_names]\n",
    "video_info = [video_info_from_filename(f) for f in f_names]\n",
    "\n",
    "hashes = Parallel(n_jobs=settings['preferred_n_jobs'])(delayed(get_checksum)(f, algorithm=\"MD5\") for f in tqdm.tqdm(fp_f_names))\n",
    "\n",
    "if not Path('raw_db.tsv').exists():\n",
    "    db_df = pd.DataFrame(columns=['v_index', 'file_name', 'MD5_hash', 'cut_start', 'cut_end'])\n",
    "    db_df['v_index'] = [str(n+1).zfill(4) for n in np.arange(len(f_names))]\n",
    "    db_df['file_name'] = f_names\n",
    "    db_df['MD5_hash'] = hashes\n",
    "    db_df['cut_start'] = np.ones(len(f_names)) * np.nan\n",
    "    db_df['cut_end'] = np.ones(len(f_names)) * np.nan\n",
    "    db_df['creator'], db_df['pexels_video_id'] = zip(*video_info)\n",
    "\n",
    "    db_df.to_csv('raw_db.tsv', sep='\\t', index=False)\n"
   ]
  },
  {
   "cell_type": "code",
   "execution_count": null,
   "metadata": {},
   "outputs": [],
   "source": []
  }
 ],
 "metadata": {
  "kernelspec": {
   "display_name": "Python 3",
   "language": "python",
   "name": "python3"
  },
  "language_info": {
   "codemirror_mode": {
    "name": "ipython",
    "version": 3
   },
   "file_extension": ".py",
   "mimetype": "text/x-python",
   "name": "python",
   "nbconvert_exporter": "python",
   "pygments_lexer": "ipython3",
   "version": "3.10.13"
  }
 },
 "nbformat": 4,
 "nbformat_minor": 2
}
