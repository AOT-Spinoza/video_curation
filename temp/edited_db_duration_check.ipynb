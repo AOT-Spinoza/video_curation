{
 "cells": [
  {
   "cell_type": "code",
   "execution_count": 2,
   "metadata": {},
   "outputs": [],
   "source": [
    "from pathlib import Path\n",
    "import ffmpeg\n",
    "import yaml\n",
    "import tqdm\n",
    "import sys\n",
    "import shutil\n",
    "import pandas as pd\n",
    "import numpy as np\n",
    "from tempfile import NamedTemporaryFile\n",
    "\n",
    "from simple_file_checksum import get_checksum\n",
    "from joblib import Parallel, delayed\n",
    "\n",
    "\n",
    "def check_duration(dbtsvfile):\n",
    "    db = pd.read_csv(dbtsvfile, sep=\"\\t\")\n",
    "    # iterate over the rows\n",
    "    problematiclist = []\n",
    "    for index, row in db.iterrows():\n",
    "        vindex = row[\"v_index\"]\n",
    "        video_name = row[\"file_name\"]\n",
    "        tmin = row[\"tmin\"]\n",
    "        tmax = row[\"tmax\"]\n",
    "        if tmax - tmin < 2.5:\n",
    "            print(f\"Duration of {video_name} is less than 2.5 second\")\n",
    "            problematiclist.append((vindex, video_name))\n",
    "    return problematiclist"
   ]
  },
  {
   "cell_type": "code",
   "execution_count": null,
   "metadata": {},
   "outputs": [],
   "source": [
    "check_duration(\"/tank/zhangs/AOT_code_repos/video_curation/edited_video_db_final.tsv\")"
   ]
  }
 ],
 "metadata": {
  "kernelspec": {
   "display_name": "base",
   "language": "python",
   "name": "python3"
  },
  "language_info": {
   "codemirror_mode": {
    "name": "ipython",
    "version": 3
   },
   "file_extension": ".py",
   "mimetype": "text/x-python",
   "name": "python",
   "nbconvert_exporter": "python",
   "pygments_lexer": "ipython3",
   "version": "3.9.12"
  }
 },
 "nbformat": 4,
 "nbformat_minor": 2
}
