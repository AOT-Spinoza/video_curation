{
 "cells": [
  {
   "cell_type": "code",
   "execution_count": 7,
   "metadata": {},
   "outputs": [],
   "source": [
    "from pathlib import Path\n",
    "import ffmpeg\n",
    "import yaml\n",
    "import tqdm\n",
    "import sys\n",
    "import shutil\n",
    "import pandas as pd\n",
    "import numpy as np\n",
    "from tempfile import NamedTemporaryFile\n",
    "\n",
    "from simple_file_checksum import get_checksum\n",
    "from joblib import Parallel, delayed\n",
    "\n",
    "\n",
    "def check_duration(dbtsvfile):\n",
    "    db = pd.read_csv(dbtsvfile, sep=\"\\t\")\n",
    "    # iterate over the rows\n",
    "    problematiclist = []\n",
    "    for index, row in db.iterrows():\n",
    "        vindex = row[\"v_index\"]\n",
    "        video_name = row[\"file_name\"]\n",
    "        tmin = row[\"tmin\"]\n",
    "        tmax = row[\"tmax\"]\n",
    "        duration = tmax - tmin\n",
    "        if tmax - tmin < 2.5:\n",
    "            print(f\"Duration of {vindex} {video_name} : {duration} is less than 2.5 seconds\")\n",
    "            problematiclist.append((vindex, video_name))\n",
    "    return problematiclist"
   ]
  },
  {
   "cell_type": "code",
   "execution_count": 8,
   "metadata": {},
   "outputs": [
    {
     "name": "stdout",
     "output_type": "stream",
     "text": [
      "Duration of 118 couple_swimming_under_the_sea (720p).mp4 : 1.8899999999999997 is less than 2.5 seconds\n",
      "Duration of 340 pexels-christopher-schultz-5928085 (1080p).mp4 : 2.0 is less than 2.5 seconds\n",
      "Duration of 405 pexels-cottonbro-5659540 (2160p).mp4 : 2.1 is less than 2.5 seconds\n",
      "Duration of 530 pexels-erik-mclean-5845159 (2160p).mp4 : 2.4999999999999996 is less than 2.5 seconds\n",
      "Duration of 578 pexels-islam-bayoumy-7120225 (1080p).mp4 : 2.0 is less than 2.5 seconds\n",
      "Duration of 592 pexels-jaxon-matthew-willis-18447537 (1080p).mp4 : 1.7 is less than 2.5 seconds\n",
      "Duration of 607 pexels-juancarlos-córdova-5854716 (2160p).mp4 : 2.4 is less than 2.5 seconds\n",
      "Duration of 608 pexels-juancarlos-córdova-7492693 (Original).mp4 : 2.0 is less than 2.5 seconds\n",
      "Duration of 619 pexels-kampus-production-6022792.mp4 : 2.0 is less than 2.5 seconds\n",
      "Duration of 677 pexels-karolina-grabowska-6332681 (Original).mp4 : 2.4999999999999996 is less than 2.5 seconds\n",
      "Duration of 742 pexels-kelly-lacy-9468762 (2160p).mp4 : 2.0 is less than 2.5 seconds\n",
      "Duration of 778 pexels-kindel-media-8164443.mp4 : 2.0 is less than 2.5 seconds\n",
      "Duration of 938 pexels-mikhail-nilov-7829146 (1080p).mp4 : 2.4999999999999996 is less than 2.5 seconds\n",
      "Duration of 1039 pexels-rishe-clicks-15637121 (Original).mp4 : 2.0 is less than 2.5 seconds\n",
      "Duration of 1061 pexels-rodnae-productions-5993246 (1080p).mp4 : 2.0 is less than 2.5 seconds\n",
      "Duration of 1318 pexels-tima-miroshnichenko-5586521 (2160p).mp4 : 2.0 is less than 2.5 seconds\n",
      "Duration of 1501 pexels-юра-9990301 (Original).mp4 : 1.5 is less than 2.5 seconds\n",
      "Duration of 1700 production_id_4106919 (2160p).mp4 : 1.5 is less than 2.5 seconds\n",
      "Duration of 1915 production_id_4806533 (2160p).mp4 : 2.2 is less than 2.5 seconds\n",
      "Duration of 1935 production_id_4858900 (2160p).mp4 : 1.5 is less than 2.5 seconds\n",
      "Duration of 1995 production_id_5039428 (2160p).mp4 : 2.0 is less than 2.5 seconds\n",
      "Duration of 2000 production_id_5051955 (2160p).mp4 : 1.7 is less than 2.5 seconds\n"
     ]
    },
    {
     "data": {
      "text/plain": [
       "[(118, 'couple_swimming_under_the_sea (720p).mp4'),\n",
       " (340, 'pexels-christopher-schultz-5928085 (1080p).mp4'),\n",
       " (405, 'pexels-cottonbro-5659540 (2160p).mp4'),\n",
       " (530, 'pexels-erik-mclean-5845159 (2160p).mp4'),\n",
       " (578, 'pexels-islam-bayoumy-7120225 (1080p).mp4'),\n",
       " (592, 'pexels-jaxon-matthew-willis-18447537 (1080p).mp4'),\n",
       " (607, 'pexels-juancarlos-córdova-5854716 (2160p).mp4'),\n",
       " (608, 'pexels-juancarlos-córdova-7492693 (Original).mp4'),\n",
       " (619, 'pexels-kampus-production-6022792.mp4'),\n",
       " (677, 'pexels-karolina-grabowska-6332681 (Original).mp4'),\n",
       " (742, 'pexels-kelly-lacy-9468762 (2160p).mp4'),\n",
       " (778, 'pexels-kindel-media-8164443.mp4'),\n",
       " (938, 'pexels-mikhail-nilov-7829146 (1080p).mp4'),\n",
       " (1039, 'pexels-rishe-clicks-15637121 (Original).mp4'),\n",
       " (1061, 'pexels-rodnae-productions-5993246 (1080p).mp4'),\n",
       " (1318, 'pexels-tima-miroshnichenko-5586521 (2160p).mp4'),\n",
       " (1501, 'pexels-юра-9990301 (Original).mp4'),\n",
       " (1700, 'production_id_4106919 (2160p).mp4'),\n",
       " (1915, 'production_id_4806533 (2160p).mp4'),\n",
       " (1935, 'production_id_4858900 (2160p).mp4'),\n",
       " (1995, 'production_id_5039428 (2160p).mp4'),\n",
       " (2000, 'production_id_5051955 (2160p).mp4')]"
      ]
     },
     "execution_count": 8,
     "metadata": {},
     "output_type": "execute_result"
    }
   ],
   "source": [
    "check_duration(\"/tank/zhangs/AOT_code_repos/video_curation/edited_video_db_final.tsv\")"
   ]
  }
 ],
 "metadata": {
  "kernelspec": {
   "display_name": "base",
   "language": "python",
   "name": "python3"
  },
  "language_info": {
   "codemirror_mode": {
    "name": "ipython",
    "version": 3
   },
   "file_extension": ".py",
   "mimetype": "text/x-python",
   "name": "python",
   "nbconvert_exporter": "python",
   "pygments_lexer": "ipython3",
   "version": "3.9.12"
  }
 },
 "nbformat": 4,
 "nbformat_minor": 2
}
