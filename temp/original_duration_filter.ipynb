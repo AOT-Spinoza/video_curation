{
 "cells": [
  {
   "cell_type": "code",
   "execution_count": null,
   "metadata": {},
   "outputs": [],
   "source": [
    "import csv"
   ]
  },
  {
   "cell_type": "code",
   "execution_count": null,
   "metadata": {},
   "outputs": [],
   "source": [
    "def tsv_filter(rawtsvfile,editedtsvfile):\n",
    "    newrawtsvfile = rawtsvfile + \".new\"\n",
    "    neweditedtsvfile = editedtsvfile + \".new\"\n",
    "    with open(rawtsvfile, newline='') as rawfile:\n",
    "        with open(editedtsvfile, newline='') as editedfile:\n",
    "            rawreader = csv.reader(rawfile, delimiter='\\t')\n",
    "            editedreader = csv.reader(editedfile, delimiter='\\t')\n",
    "            for row in rawreader:\n",
    "                vindex = row[0]\n",
    "                tmin = row[1]\n",
    "                tmax = row[2]\n",
    "                if tmax-tmin < 2.5:\n",
    "                    #delete row\n",
    "                    \n",
    "                else:\n",
    "\n",
    "\n",
    "\n"
   ]
  }
 ],
 "metadata": {
  "language_info": {
   "name": "python"
  }
 },
 "nbformat": 4,
 "nbformat_minor": 2
}
