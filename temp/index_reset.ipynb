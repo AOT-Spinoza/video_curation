{
 "cells": [
  {
   "cell_type": "code",
   "execution_count": 1,
   "metadata": {},
   "outputs": [],
   "source": [
    "import csv"
   ]
  },
  {
   "cell_type": "code",
   "execution_count": 2,
   "metadata": {},
   "outputs": [],
   "source": [
    "def resetindex(dbtsvfile, dbtsvfilenew):\n",
    "    with open(dbtsvfile, 'r') as f:\n",
    "        reader = csv.reader(f, delimiter='\\t')\n",
    "        data = list(reader)\n",
    "        with open(dbtsvfilenew, 'w') as f:\n",
    "            writer = csv.writer(f, delimiter='\\t')\n",
    "            index = 0\n",
    "            for row in data:\n",
    "                if index == 0:\n",
    "                    writer.writerow(row)\n",
    "                    index += 1\n",
    "                else:\n",
    "                    writer.writerow([index] + row[1:])\n",
    "                    index += 1\n",
    "    ###save the index \n"
   ]
  },
  {
   "cell_type": "code",
   "execution_count": 3,
   "metadata": {},
   "outputs": [],
   "source": [
    "resetindex(\"/tank/zhangs/AOT_code_repos/video_curation/edited_video_db_temp.tsv\",\"/tank/zhangs/AOT_code_repos/video_curation/edited_video_db_final.tsv\")"
   ]
  }
 ],
 "metadata": {
  "kernelspec": {
   "display_name": "base",
   "language": "python",
   "name": "python3"
  },
  "language_info": {
   "codemirror_mode": {
    "name": "ipython",
    "version": 3
   },
   "file_extension": ".py",
   "mimetype": "text/x-python",
   "name": "python",
   "nbconvert_exporter": "python",
   "pygments_lexer": "ipython3",
   "version": "3.9.12"
  }
 },
 "nbformat": 4,
 "nbformat_minor": 2
}
