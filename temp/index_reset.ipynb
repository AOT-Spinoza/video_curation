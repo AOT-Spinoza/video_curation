{
 "cells": [
  {
   "cell_type": "code",
   "execution_count": null,
   "metadata": {},
   "outputs": [],
   "source": [
    "import csv"
   ]
  },
  {
   "cell_type": "code",
   "execution_count": null,
   "metadata": {},
   "outputs": [],
   "source": [
    "def resetindex(dbtsvfile):\n",
    "    with open(dbtsvfile, 'r') as f:\n",
    "        reader = csv.reader(f, delimiter='\\t')\n",
    "        data = list(reader)\n",
    "    with open(dbtsvfile, 'w') as f:\n",
    "        writer = csv.writer(f, delimiter='\\t')\n",
    "        index = 0\n",
    "        for row in data:\n",
    "            if index == 0:\n",
    "                pass\n",
    "            else:\n",
    "                writer.writerow([index] + row[1:])\n",
    "                index += 1\n"
   ]
  },
  {
   "cell_type": "code",
   "execution_count": null,
   "metadata": {},
   "outputs": [],
   "source": [
    "resetindex()"
   ]
  }
 ],
 "metadata": {
  "language_info": {
   "name": "python"
  }
 },
 "nbformat": 4,
 "nbformat_minor": 2
}
