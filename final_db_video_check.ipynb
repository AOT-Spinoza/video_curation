{
 "cells": [
  {
   "cell_type": "code",
   "execution_count": 1,
   "metadata": {},
   "outputs": [],
   "source": [
    "import os\n",
    "import aot\n",
    "import yaml\n",
    "from pathlib import Path\n",
    "import ffmpeg\n",
    "\n",
    "\n",
    "settings = yaml.load(open(\"settings.yaml\"), Loader=yaml.FullLoader)\n",
    "video_path = Path(settings[\"rescaled_stimulus_video_directory\"])\n"
   ]
  },
  {
   "cell_type": "code",
   "execution_count": 2,
   "metadata": {},
   "outputs": [
    {
     "name": "stdout",
     "output_type": "stream",
     "text": [
      "[]\n"
     ]
    }
   ],
   "source": [
    "# check whether all videos are 2.5 seconds long\n",
    "invalide_videos = []\n",
    "for video in os.listdir(video_path):\n",
    "    if video.endswith(\".mp4\"):\n",
    "        video_file = os.path.join(video_path, video)\n",
    "        video_duration = round(float(ffmpeg.probe(video_file)[\"format\"][\"duration\"]), 1)\n",
    "        if video_duration != 2.5:\n",
    "            print(\"invalid video\")\n",
    "            print(video, video_duration)\n",
    "            invalide_videos.append(video)\n",
    "\n",
    "print(invalide_videos)"
   ]
  },
  {
   "cell_type": "code",
   "execution_count": 3,
   "metadata": {},
   "outputs": [],
   "source": [
    "# check whether all videos exist in the folder\n",
    "def index_to_filename(index, direction=\"fw\"):  # or rv\n",
    "    # 4 pad the index with zeros\n",
    "    index = str(index).zfill(4)\n",
    "    name = f\"{index}_{direction}.mp4\"\n",
    "    full_path = str(video_path / name)\n",
    "    return full_path\n",
    "\n",
    "video_num = 2179\n",
    "\n",
    "for i in range(1, video_num + 1):\n",
    "    if not os.path.exists(index_to_filename(i, \"fw\")):\n",
    "        print(f\"fw video {i} does not exist\")\n",
    "    if not os.path.exists(index_to_filename(i, \"rv\")):\n",
    "        print(f\"rv video {i} does not exist\")\n",
    "\n"
   ]
  }
 ],
 "metadata": {
  "kernelspec": {
   "display_name": "base",
   "language": "python",
   "name": "python3"
  },
  "language_info": {
   "codemirror_mode": {
    "name": "ipython",
    "version": 3
   },
   "file_extension": ".py",
   "mimetype": "text/x-python",
   "name": "python",
   "nbconvert_exporter": "python",
   "pygments_lexer": "ipython3",
   "version": "3.9.12"
  }
 },
 "nbformat": 4,
 "nbformat_minor": 2
}
